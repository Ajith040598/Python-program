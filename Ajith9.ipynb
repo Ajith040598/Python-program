{
  "nbformat": 4,
  "nbformat_minor": 0,
  "metadata": {
    "colab": {
      "name": "Ajith9",
      "provenance": [],
      "collapsed_sections": []
    },
    "kernelspec": {
      "name": "python3",
      "display_name": "Python 3"
    },
    "language_info": {
      "name": "python"
    }
  },
  "cells": [
    {
      "cell_type": "code",
      "source": [
        "import pandas as pd\n",
        "import pandas as pd\n",
        "data = {'year':[10,11,12,11,12,10,11,12],\n",
        "        'team':['csk','mi','mi','srh','kkr','csk','csk','csk'],\n",
        "        'wins':[11,8,10,15,11,6,10,4],\n",
        "        'losses':[5,8,6,1,5,10,6,12]}\n",
        "index_labels=['r1','r2','r3','r4','r5','r6','r7','r8']      \n",
        "ipl=pd.DataFrame(data,index=index_labels)\n",
        "print(ipl)"
      ],
      "metadata": {
        "colab": {
          "base_uri": "https://localhost:8080/"
        },
        "id": "BcrYGGRCBeol",
        "outputId": "f8f7d169-72c6-4a7c-eeca-a423c534c642"
      },
      "execution_count": null,
      "outputs": [
        {
          "output_type": "stream",
          "name": "stdout",
          "text": [
            "    year team  wins  losses\n",
            "r1    10  csk    11       5\n",
            "r2    11   mi     8       8\n",
            "r3    12   mi    10       6\n",
            "r4    11  srh    15       1\n",
            "r5    12  kkr    11       5\n",
            "r6    10  csk     6      10\n",
            "r7    11  csk    10       6\n",
            "r8    12  csk     4      12\n"
          ]
        }
      ]
    },
    {
      "cell_type": "code",
      "source": [
        "#print(ipl.loc['r2'])\n",
        "#print(ipl.loc[ipl['wins']>=10])\n",
        "#print(ipl.iloc[list(ipl['wins']>=5)])\n",
        "#print(ipl.loc[:,'wins':'losses':2])\n",
        "#print(ipl.loc['r1':'r4':2])\n",
        "#print(ipl.iloc[0:4:2])\n",
        "#print(ipl.iloc[:,1:4:2])\n"
      ],
      "metadata": {
        "id": "zc91locaKBUa"
      },
      "execution_count": null,
      "outputs": []
    },
    {
      "cell_type": "code",
      "source": [
        "import pandas as pd\n",
        "import pandas as pd\n",
        "data1 = {'year':[10,11,12,11,12,10,11,12],\n",
        "        'team':['csk','mi','mi','srh','kkr','csk','csk','csk'],\n",
        "        'wins':[11,8,10,15,11,6,10,4],\n",
        "        'losses':[5,8,6,1,5,10,6,12]}\n",
        "index_labels1=['r1','r2','r3','r4','r5','r6','r7','r8']      \n",
        "ipl1=pd.DataFrame(data,index=index_labels1)\n",
        "data2={'year':[10,11,12,11,12,10,11,12],\n",
        "       'draw':[1,2,3,4,5,6,7,8,]\n",
        "       }\n",
        "index_labels2=['r1','r2','r3','r4','r5','r6','r7','r8']       \n",
        "ipl2=pd.DataFrame(data2,index=index_labels2) \n",
        "    "
      ],
      "metadata": {
        "id": "6ggSQdImKBzH"
      },
      "execution_count": null,
      "outputs": []
    },
    {
      "cell_type": "code",
      "source": [
        "ipl3=ipl1.join(ipl2,lsuffix=\"_left\", rsuffix=\"_right\")\n",
        "print(ipl3)"
      ],
      "metadata": {
        "colab": {
          "base_uri": "https://localhost:8080/"
        },
        "id": "PH4nuYZUXc7A",
        "outputId": "b7fef7a1-35f1-427d-b58d-fd5c447fa9d2"
      },
      "execution_count": null,
      "outputs": [
        {
          "output_type": "stream",
          "name": "stdout",
          "text": [
            "    year_left team  wins  losses  year_right  draw\n",
            "r1         10  csk    11       5          10     1\n",
            "r2         11   mi     8       8          11     2\n",
            "r3         12   mi    10       6          12     3\n",
            "r4         11  srh    15       1          11     4\n",
            "r5         12  kkr    11       5          12     5\n",
            "r6         10  csk     6      10          10     6\n",
            "r7         11  csk    10       6          11     7\n",
            "r8         12  csk     4      12          12     8\n"
          ]
        }
      ]
    },
    {
      "cell_type": "code",
      "source": [
        "import pandas as pd\n",
        "import pandas as pd\n",
        "data1 = {'year':[10,11,12,11,12,10,11,12],\n",
        "        'team':['csk','mi','mi','srh','kkr','csk','csk','csk'],\n",
        "        'wins':[11,8,10,15,11,6,10,4],\n",
        "        'losses':[5,8,6,1,5,10,6,12]}\n",
        "index_labels1=['r1','r2','r3','r4','r5','r6','r7','r8']      \n",
        "ipl1=pd.DataFrame(data,index=index_labels1)\n",
        "print(ipl1)"
      ],
      "metadata": {
        "colab": {
          "base_uri": "https://localhost:8080/"
        },
        "id": "SnxbgHeNZFAZ",
        "outputId": "a0bba89f-e3a2-46b4-eefa-5f3012807731"
      },
      "execution_count": null,
      "outputs": [
        {
          "output_type": "stream",
          "name": "stdout",
          "text": [
            "    year team  wins  losses\n",
            "r1    10  csk    11       5\n",
            "r2    11   mi     8       8\n",
            "r3    12   mi    10       6\n",
            "r4    11  srh    15       1\n",
            "r5    12  kkr    11       5\n",
            "r6    10  csk     6      10\n",
            "r7    11  csk    10       6\n",
            "r8    12  csk     4      12\n"
          ]
        }
      ]
    },
    {
      "cell_type": "code",
      "source": [
        "df2=ipl1.sort_values('wins')\n",
        "print(df2)"
      ],
      "metadata": {
        "colab": {
          "base_uri": "https://localhost:8080/"
        },
        "id": "n-dWIGh1ZMtX",
        "outputId": "f4bba9ea-266d-4a4c-e6ff-dbb12ec38db9"
      },
      "execution_count": null,
      "outputs": [
        {
          "output_type": "stream",
          "name": "stdout",
          "text": [
            "    year team  wins  losses\n",
            "r8    12  csk     4      12\n",
            "r6    10  csk     6      10\n",
            "r2    11   mi     8       8\n",
            "r3    12   mi    10       6\n",
            "r7    11  csk    10       6\n",
            "r1    10  csk    11       5\n",
            "r5    12  kkr    11       5\n",
            "r4    11  srh    15       1\n"
          ]
        }
      ]
    },
    {
      "cell_type": "code",
      "source": [
        "df2=ipl1.sort_values('wins',ascending=True)\n",
        "print(df2)"
      ],
      "metadata": {
        "colab": {
          "base_uri": "https://localhost:8080/"
        },
        "id": "djp8DyU6ZW58",
        "outputId": "300d274a-5b5d-44a0-9a48-a7ee0a0325af"
      },
      "execution_count": null,
      "outputs": [
        {
          "output_type": "stream",
          "name": "stdout",
          "text": [
            "    year team  wins  losses\n",
            "r8    12  csk     4      12\n",
            "r6    10  csk     6      10\n",
            "r2    11   mi     8       8\n",
            "r3    12   mi    10       6\n",
            "r7    11  csk    10       6\n",
            "r1    10  csk    11       5\n",
            "r5    12  kkr    11       5\n",
            "r4    11  srh    15       1\n"
          ]
        }
      ]
    },
    {
      "cell_type": "code",
      "source": [
        "df2=ipl1.sort_values(by=['wins','team'])\n",
        "print(df2)"
      ],
      "metadata": {
        "colab": {
          "base_uri": "https://localhost:8080/"
        },
        "id": "bGUcDGU3Z18q",
        "outputId": "77d96c42-fbac-4149-ad52-447243021303"
      },
      "execution_count": null,
      "outputs": [
        {
          "output_type": "stream",
          "name": "stdout",
          "text": [
            "    year team  wins  losses\n",
            "r8    12  csk     4      12\n",
            "r6    10  csk     6      10\n",
            "r2    11   mi     8       8\n",
            "r7    11  csk    10       6\n",
            "r3    12   mi    10       6\n",
            "r1    10  csk    11       5\n",
            "r5    12  kkr    11       5\n",
            "r4    11  srh    15       1\n"
          ]
        }
      ]
    },
    {
      "cell_type": "code",
      "source": [
        "import pandas as pd\n",
        "import numpy as np\n",
        "df=pd.DataFrame({'A':[0,1,2,3,4,10],\n",
        "                 'B':[1,2,3,4,np.nan,5]})\n",
        "print(df)"
      ],
      "metadata": {
        "colab": {
          "base_uri": "https://localhost:8080/"
        },
        "id": "U77c4LPGaHcR",
        "outputId": "a443838b-f5fd-4b91-a461-c3264f6c18b6"
      },
      "execution_count": null,
      "outputs": [
        {
          "output_type": "stream",
          "name": "stdout",
          "text": [
            "    A    B\n",
            "0   0  1.0\n",
            "1   1  2.0\n",
            "2   2  3.0\n",
            "3   3  4.0\n",
            "4   4  NaN\n",
            "5  10  5.0\n"
          ]
        }
      ]
    },
    {
      "cell_type": "code",
      "source": [
        "rolling=df.rolling(window=2)\n",
        "print(rolling)"
      ],
      "metadata": {
        "colab": {
          "base_uri": "https://localhost:8080/"
        },
        "id": "Szh9Hl5tsul-",
        "outputId": "ff5f50d7-8049-44be-a072-6a87365642b3"
      },
      "execution_count": null,
      "outputs": [
        {
          "output_type": "stream",
          "name": "stdout",
          "text": [
            "Rolling [window=2,center=False,axis=0,method=single]\n"
          ]
        }
      ]
    },
    {
      "cell_type": "code",
      "source": [
        "df2=df.rolling(window=3).sum()\n",
        "print(df2)"
      ],
      "metadata": {
        "colab": {
          "base_uri": "https://localhost:8080/"
        },
        "id": "yy_YP4n2tKL0",
        "outputId": "150aee04-4c4e-4373-bc99-05969b45d3f5"
      },
      "execution_count": null,
      "outputs": [
        {
          "output_type": "stream",
          "name": "stdout",
          "text": [
            "      A    B\n",
            "0   NaN  NaN\n",
            "1   NaN  NaN\n",
            "2   3.0  6.0\n",
            "3   6.0  9.0\n",
            "4   9.0  NaN\n",
            "5  17.0  NaN\n"
          ]
        }
      ]
    },
    {
      "cell_type": "code",
      "source": [
        "import pandas as pd\n",
        "import numpy as np\n",
        "pd.date_range(start ='24-4-2018', end ='24-5-2018', freq ='T')"
      ],
      "metadata": {
        "colab": {
          "base_uri": "https://localhost:8080/"
        },
        "id": "6DnC8HA6xj5V",
        "outputId": "0a5baf32-b461-4617-8596-476ded003032"
      },
      "execution_count": null,
      "outputs": [
        {
          "output_type": "execute_result",
          "data": {
            "text/plain": [
              "DatetimeIndex(['2018-04-24 00:00:00', '2018-04-24 00:01:00',\n",
              "               '2018-04-24 00:02:00', '2018-04-24 00:03:00',\n",
              "               '2018-04-24 00:04:00', '2018-04-24 00:05:00',\n",
              "               '2018-04-24 00:06:00', '2018-04-24 00:07:00',\n",
              "               '2018-04-24 00:08:00', '2018-04-24 00:09:00',\n",
              "               ...\n",
              "               '2018-05-23 23:51:00', '2018-05-23 23:52:00',\n",
              "               '2018-05-23 23:53:00', '2018-05-23 23:54:00',\n",
              "               '2018-05-23 23:55:00', '2018-05-23 23:56:00',\n",
              "               '2018-05-23 23:57:00', '2018-05-23 23:58:00',\n",
              "               '2018-05-23 23:59:00', '2018-05-24 00:00:00'],\n",
              "              dtype='datetime64[ns]', length=43201, freq='T')"
            ]
          },
          "metadata": {},
          "execution_count": 76
        }
      ]
    },
    {
      "cell_type": "code",
      "source": [
        "import pandas as pd\n",
        "from datetime import datetime \n",
        "start_date=datetime.today()\n",
        "dates_start=pd.date_range(start_date,periods=5,freq=\"D\")\n",
        "dates_start[:10]"
      ],
      "metadata": {
        "colab": {
          "base_uri": "https://localhost:8080/"
        },
        "id": "cE9PuGZ8EfIc",
        "outputId": "5ab658c6-9645-4dbf-bed1-0c96700efb1f"
      },
      "execution_count": null,
      "outputs": [
        {
          "output_type": "execute_result",
          "data": {
            "text/plain": [
              "DatetimeIndex(['2022-03-17 09:04:04.225472', '2022-03-18 09:04:04.225472',\n",
              "               '2022-03-19 09:04:04.225472', '2022-03-20 09:04:04.225472',\n",
              "               '2022-03-21 09:04:04.225472'],\n",
              "              dtype='datetime64[ns]', freq='D')"
            ]
          },
          "metadata": {},
          "execution_count": 86
        }
      ]
    },
    {
      "cell_type": "code",
      "source": [
        "df=pd.DataFrame(np.random.rand(10,4),columns=['a','b','c','d'])\n",
        "df.plot.bar(stacked=True)"
      ],
      "metadata": {
        "colab": {
          "base_uri": "https://localhost:8080/",
          "height": 280
        },
        "id": "_1FNlVVxHrgv",
        "outputId": "35b5fdfa-2a51-4227-8ff4-b6032db113d8"
      },
      "execution_count": null,
      "outputs": [
        {
          "output_type": "execute_result",
          "data": {
            "text/plain": [
              "<matplotlib.axes._subplots.AxesSubplot at 0x7fc9c924c190>"
            ]
          },
          "metadata": {},
          "execution_count": 87
        },
        {
          "output_type": "display_data",
          "data": {
            "text/plain": [
              "<Figure size 432x288 with 1 Axes>"
            ],
            "image/png": "[encoded data removed]"
          },
          "metadata": {
            "needs_background": "light"
          }
        }
      ]
    },
    {
      "cell_type": "code",
      "source": [
        "df=pd.DataFrame(np.random.rand(50,4),columns=['a','b','c','d'])\n",
        "df.plot.scatter(x='a',y='b')"
      ],
      "metadata": {
        "colab": {
          "base_uri": "https://localhost:8080/",
          "height": 299
        },
        "id": "UlRyWPNUJE1U",
        "outputId": "5d43e21a-3842-4c34-dbfd-99a9351b6d56"
      },
      "execution_count": null,
      "outputs": [
        {
          "output_type": "execute_result",
          "data": {
            "text/plain": [
              "<matplotlib.axes._subplots.AxesSubplot at 0x7fc9c9179690>"
            ]
          },
          "metadata": {},
          "execution_count": 89
        },
        {
          "output_type": "display_data",
          "data": {
            "text/plain": [
              "<Figure size 432x288 with 1 Axes>"
            ],
            "image/png": "[encoded data removed]"
          },
          "metadata": {
            "needs_background": "light"
          }
        }
      ]
    },
    {
      "cell_type": "code",
      "source": [
        "df=pd.DataFrame(3 * np.random.rand(4),index=['a','b','c','d'],columns=['x'])\n",
        "df.plot.pie(subplots=True)\n"
      ],
      "metadata": {
        "colab": {
          "base_uri": "https://localhost:8080/",
          "height": 283
        },
        "id": "BnXfVWJSJr7g",
        "outputId": "364c9f53-10ac-4ae4-8d24-f0e74fb79bdf"
      },
      "execution_count": null,
      "outputs": [
        {
          "output_type": "execute_result",
          "data": {
            "text/plain": [
              "array([<matplotlib.axes._subplots.AxesSubplot object at 0x7fc9c88d5350>],\n",
              "      dtype=object)"
            ]
          },
          "metadata": {},
          "execution_count": 90
        },
        {
          "output_type": "display_data",
          "data": {
            "text/plain": [
              "<Figure size 432x288 with 1 Axes>"
            ],
            "image/png": "[encoded data removed]"
          },
          "metadata": {}
        }
      ]
    },
    {
      "cell_type": "code",
      "source": [
        ""
      ],
      "metadata": {
        "id": "CnmH5_oXfZhC"
      },
      "execution_count": null,
      "outputs": []
    },
    {
      "cell_type": "code",
      "source": [
        "a=input()\n",
        "c=a.index('.')-a.index('@')\n",
        "print(c)\n",
        "if a[0:3].isalnum() and a.count('@')==1 and a.count('&')<=1 and a.count('.')==1 and c>4 and '.com' in a[-4:]:\n",
        "    print(\"YES\")\n",
        "else:\n",
        "    print(\"NO\")\n"
      ],
      "metadata": {
        "colab": {
          "base_uri": "https://localhost:8080/"
        },
        "id": "xswk9QaVfZpD",
        "outputId": "f8633c4c-2581-480b-a9e4-01f97493c326"
      },
      "execution_count": null,
      "outputs": [
        {
          "output_type": "stream",
          "name": "stdout",
          "text": [
            "test@gmaile.com\n",
            "7\n",
            "YES\n"
          ]
        }
      ]
    },
    {
      "cell_type": "code",
      "source": [
        ""
      ],
      "metadata": {
        "id": "oeeibdNrfZt_"
      },
      "execution_count": null,
      "outputs": []
    },
    {
      "cell_type": "code",
      "source": [
        ""
      ],
      "metadata": {
        "id": "c5scefMKfZwl"
      },
      "execution_count": null,
      "outputs": []
    },
    {
      "cell_type": "code",
      "source": [
        ""
      ],
      "metadata": {
        "id": "Oawh3T9PfZ3H"
      },
      "execution_count": null,
      "outputs": []
    },
    {
      "cell_type": "code",
      "source": [
        ""
      ],
      "metadata": {
        "id": "LBEKz36RfZ6Q"
      },
      "execution_count": null,
      "outputs": []
    }
  ]
}