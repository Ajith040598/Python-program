{
 "cells": [
  {
   "cell_type": "code",
   "execution_count": 46,
   "id": "cf94b21c",
   "metadata": {},
   "outputs": [
    {
     "data": {
      "text/html": [
       "<div>\n",
       "<style scoped>\n",
       "    .dataframe tbody tr th:only-of-type {\n",
       "        vertical-align: middle;\n",
       "    }\n",
       "\n",
       "    .dataframe tbody tr th {\n",
       "        vertical-align: top;\n",
       "    }\n",
       "\n",
       "    .dataframe thead th {\n",
       "        text-align: right;\n",
       "    }\n",
       "</style>\n",
       "<table border=\"1\" class=\"dataframe\">\n",
       "  <thead>\n",
       "    <tr style=\"text-align: right;\">\n",
       "      <th></th>\n",
       "      <th>name</th>\n",
       "      <th>DOB</th>\n",
       "      <th>area of interest</th>\n",
       "      <th>address</th>\n",
       "      <th>mark</th>\n",
       "    </tr>\n",
       "  </thead>\n",
       "  <tbody>\n",
       "    <tr>\n",
       "      <th>1</th>\n",
       "      <td>ajith</td>\n",
       "      <td>1998</td>\n",
       "      <td>IT</td>\n",
       "      <td>chennai</td>\n",
       "      <td>50</td>\n",
       "    </tr>\n",
       "    <tr>\n",
       "      <th>2</th>\n",
       "      <td>ashok</td>\n",
       "      <td>1994</td>\n",
       "      <td>computer</td>\n",
       "      <td>vaniyambadi</td>\n",
       "      <td>60</td>\n",
       "    </tr>\n",
       "    <tr>\n",
       "      <th>3</th>\n",
       "      <td>anand</td>\n",
       "      <td>1996</td>\n",
       "      <td>BIo</td>\n",
       "      <td>bangalore</td>\n",
       "      <td>100</td>\n",
       "    </tr>\n",
       "    <tr>\n",
       "      <th>4</th>\n",
       "      <td>aarthi</td>\n",
       "      <td>2000</td>\n",
       "      <td>Bank</td>\n",
       "      <td>vaniyambadi</td>\n",
       "      <td>65</td>\n",
       "    </tr>\n",
       "    <tr>\n",
       "      <th>5</th>\n",
       "      <td>arun</td>\n",
       "      <td>1997</td>\n",
       "      <td>electronics</td>\n",
       "      <td>vellore</td>\n",
       "      <td>50</td>\n",
       "    </tr>\n",
       "    <tr>\n",
       "      <th>6</th>\n",
       "      <td>ajay</td>\n",
       "      <td>2000</td>\n",
       "      <td>anything</td>\n",
       "      <td>natupatrai</td>\n",
       "      <td>55</td>\n",
       "    </tr>\n",
       "    <tr>\n",
       "      <th>7</th>\n",
       "      <td>prabhu</td>\n",
       "      <td>1997</td>\n",
       "      <td>IT</td>\n",
       "      <td>ambur</td>\n",
       "      <td>76</td>\n",
       "    </tr>\n",
       "    <tr>\n",
       "      <th>8</th>\n",
       "      <td>eangalas</td>\n",
       "      <td>1998</td>\n",
       "      <td>Politics</td>\n",
       "      <td>thrupattur</td>\n",
       "      <td>79</td>\n",
       "    </tr>\n",
       "  </tbody>\n",
       "</table>\n",
       "</div>"
      ],
      "text/plain": [
       "       name   DOB area of interest      address  mark\n",
       "1     ajith  1998               IT      chennai    50\n",
       "2     ashok  1994         computer  vaniyambadi    60\n",
       "3     anand  1996              BIo    bangalore   100\n",
       "4    aarthi  2000             Bank  vaniyambadi    65\n",
       "5      arun  1997      electronics      vellore    50\n",
       "6      ajay  2000         anything   natupatrai    55\n",
       "7    prabhu  1997               IT        ambur    76\n",
       "8  eangalas  1998         Politics   thrupattur    79"
      ]
     },
     "execution_count": 46,
     "metadata": {},
     "output_type": "execute_result"
    }
   ],
   "source": [
    "import pandas as pd\n",
    "import numpy as np\n",
    "data = {\"name\":[\"ajith\",\"ashok\",\"anand\",\"aarthi\",\"arun\",\"ajay\",\"prabhu\",\"eangalas\"],\n",
    "       \"DOB\":[1998,1994,1996,2000,1997,2000,1997,1998],\n",
    "       \"area of interest\":[\"IT\",\"computer\",\"BIo\",\"Bank\",\"electronics\",\"anything\",\"IT\",\"Politics\"],\n",
    "       \"address\":[\"chennai\",\"vaniyambadi\",\"bangalore\",\"vaniyambadi\",\"vellore\",\"natupatrai\",\"ambur\",\"thrupattur\"],\n",
    "       \"mark\":[50,60,100,65,50,55,76,79]}\n",
    "df=pd.DataFrame(data,index=[1,2,3,4,5,6,7,8])\n",
    "df"
   ]
  },
  {
   "cell_type": "code",
   "execution_count": 80,
   "id": "689d1ab5",
   "metadata": {},
   "outputs": [
    {
     "data": {
      "text/plain": [
       "'ajith'"
      ]
     },
     "execution_count": 80,
     "metadata": {},
     "output_type": "execute_result"
    }
   ],
   "source": [
    "df['name'].values[0]"
   ]
  },
  {
   "cell_type": "code",
   "execution_count": 90,
   "id": "ae6083b6",
   "metadata": {},
   "outputs": [
    {
     "name": "stdout",
     "output_type": "stream",
     "text": [
      "[1 2 3 4 5 6]\n"
     ]
    }
   ],
   "source": [
    "a=np.array([1,2,3,4,5,6])\n",
    "print(a)"
   ]
  },
  {
   "cell_type": "code",
   "execution_count": 91,
   "id": "5af684ca",
   "metadata": {},
   "outputs": [
    {
     "data": {
      "text/plain": [
       "array([[1, 2, 3],\n",
       "       [4, 5, 6]])"
      ]
     },
     "execution_count": 91,
     "metadata": {},
     "output_type": "execute_result"
    }
   ],
   "source": [
    "b=a.reshape((2,3))\n",
    "b"
   ]
  },
  {
   "cell_type": "code",
   "execution_count": 93,
   "id": "9f7c1dac",
   "metadata": {},
   "outputs": [
    {
     "data": {
      "text/plain": [
       "array([[14, 24, 34],\n",
       "       [44, 54, 64]])"
      ]
     },
     "execution_count": 93,
     "metadata": {},
     "output_type": "execute_result"
    }
   ],
   "source": [
    "b*10+4"
   ]
  },
  {
   "cell_type": "code",
   "execution_count": null,
   "id": "47a9f67c",
   "metadata": {},
   "outputs": [],
   "source": []
  },
  {
   "cell_type": "code",
   "execution_count": null,
   "id": "ef6ee51f",
   "metadata": {},
   "outputs": [],
   "source": []
  }
 ],
 "metadata": {
  "kernelspec": {
   "display_name": "Python 3 (ipykernel)",
   "language": "python",
   "name": "python3"
  },
  "language_info": {
   "codemirror_mode": {
    "name": "ipython",
    "version": 3
   },
   "file_extension": ".py",
   "mimetype": "text/x-python",
   "name": "python",
   "nbconvert_exporter": "python",
   "pygments_lexer": "ipython3",
   "version": "3.9.7"
  }
 },
 "nbformat": 4,
 "nbformat_minor": 5
}
