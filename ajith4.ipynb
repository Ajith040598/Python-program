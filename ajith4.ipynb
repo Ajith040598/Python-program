{
 "cells": [
  {
   "cell_type": "code",
   "execution_count": null,
   "id": "e4d4a5c8",
   "metadata": {
    "scrolled": true
   },
   "outputs": [],
   "source": [
    "n=int(input())\n",
    "sum=0\n",
    "product=1\n",
    "for i in range(1,n+1):\n",
    "    sum=sum+i\n",
    "    print(sum)\n",
    "    product=product*i\n",
    "    print(product)"
   ]
  },
  {
   "cell_type": "code",
   "execution_count": 4,
   "id": "71d8afa3",
   "metadata": {
    "scrolled": false
   },
   "outputs": [
    {
     "name": "stdout",
     "output_type": "stream",
     "text": [
      "5\n",
      "5\n",
      "10\n",
      "15\n",
      "20\n",
      "25\n",
      "30\n",
      "35\n",
      "40\n",
      "45\n",
      "50\n",
      "55\n",
      "60\n"
     ]
    }
   ],
   "source": [
    "n=int(input())\n",
    "for i in range(1,13):\n",
    "    print(i*n)"
   ]
  },
  {
   "cell_type": "code",
   "execution_count": null,
   "id": "1520b859",
   "metadata": {},
   "outputs": [],
   "source": [
    "num= int(input())\n",
    "flag =False\n",
    "if num>1:\n",
    "    for i in range(2,num):\n",
    "        if(num%i)==0:\n",
    "            flag=True\n",
    "            break\n",
    "if flag:\n",
    "    print(num, \"false\")\n",
    "else:\n",
    "    print(num, \"true\")"
   ]
  },
  {
   "cell_type": "code",
   "execution_count": null,
   "id": "7652ad68",
   "metadata": {},
   "outputs": [],
   "source": []
  },
  {
   "cell_type": "code",
   "execution_count": null,
   "id": "b8083d18",
   "metadata": {},
   "outputs": [],
   "source": []
  },
  {
   "cell_type": "code",
   "execution_count": null,
   "id": "6369ca17",
   "metadata": {
    "scrolled": true
   },
   "outputs": [],
   "source": [
    "numInput = int(input(\"Multiplication using value? : \"))\n",
    "\n",
    "for i in range(1,numInput+1):\n",
    "    for j in range(1,numInput+1):\n",
    "        print(i, \" * \", j, \" = \", i*j)\n",
    "    print(\"\")"
   ]
  },
  {
   "cell_type": "code",
   "execution_count": null,
   "id": "b20ab2b1",
   "metadata": {},
   "outputs": [],
   "source": []
  }
 ],
 "metadata": {
  "kernelspec": {
   "display_name": "Python 3 (ipykernel)",
   "language": "python",
   "name": "python3"
  },
  "language_info": {
   "codemirror_mode": {
    "name": "ipython",
    "version": 3
   },
   "file_extension": ".py",
   "mimetype": "text/x-python",
   "name": "python",
   "nbconvert_exporter": "python",
   "pygments_lexer": "ipython3",
   "version": "3.9.7"
  }
 },
 "nbformat": 4,
 "nbformat_minor": 5
}
