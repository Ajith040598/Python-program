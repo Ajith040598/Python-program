{
 "cells": [
  {
   "cell_type": "code",
   "execution_count": 1,
   "id": "78659e80",
   "metadata": {},
   "outputs": [
    {
     "name": "stdout",
     "output_type": "stream",
     "text": [
      "hello world\n"
     ]
    }
   ],
   "source": [
    "x=\"hello world\"\n",
    "print(x)"
   ]
  },
  {
   "cell_type": "code",
   "execution_count": 10,
   "id": "9a6a376f",
   "metadata": {},
   "outputs": [
    {
     "data": {
      "text/plain": [
       "25"
      ]
     },
     "execution_count": 10,
     "metadata": {},
     "output_type": "execute_result"
    }
   ],
   "source": [
    "def square(n):\n",
    "    return n**2\n",
    "square(5)"
   ]
  },
  {
   "cell_type": "code",
   "execution_count": 49,
   "id": "39327c87",
   "metadata": {},
   "outputs": [
    {
     "name": "stdout",
     "output_type": "stream",
     "text": [
      "<function <lambda> at 0x7f7951a353a0>\n"
     ]
    }
   ],
   "source": [
    "square=lambda n:n**2"
   ]
  },
  {
   "cell_type": "code",
   "execution_count": 28,
   "id": "9b83f7ff",
   "metadata": {},
   "outputs": [
    {
     "name": "stdout",
     "output_type": "stream",
     "text": [
      "[1, 4, 9, 16, 25, 36, 49, 64, 81]\n"
     ]
    }
   ],
   "source": [
    "square=[]\n",
    "for i in range(1,10):\n",
    "    square.append(i**2)\n",
    "print(square)"
   ]
  },
  {
   "cell_type": "code",
   "execution_count": 45,
   "id": "5689998c",
   "metadata": {},
   "outputs": [
    {
     "data": {
      "text/plain": [
       "[1, 9, 25, 49, 81]"
      ]
     },
     "execution_count": 45,
     "metadata": {},
     "output_type": "execute_result"
    }
   ],
   "source": [
    "def square(n):\n",
    "    return n**2\n",
    "squares=list(map(square,range(1,10,2)))\n",
    "list(squares)"
   ]
  },
  {
   "cell_type": "code",
   "execution_count": 47,
   "id": "f662c631",
   "metadata": {},
   "outputs": [
    {
     "name": "stdout",
     "output_type": "stream",
     "text": [
      "[1, 9, 25, 49, 81]\n"
     ]
    }
   ],
   "source": [
    "square=list(map(lambda n:n**2,range(1,10,2)))\n",
    "print(square)"
   ]
  },
  {
   "cell_type": "code",
   "execution_count": 54,
   "id": "bf863026",
   "metadata": {},
   "outputs": [
    {
     "name": "stdout",
     "output_type": "stream",
     "text": [
      "64\n"
     ]
    }
   ],
   "source": [
    "x=pow(4,3)\n",
    "print(x)"
   ]
  },
  {
   "cell_type": "code",
   "execution_count": 55,
   "id": "0aadc835",
   "metadata": {},
   "outputs": [
    {
     "name": "stdout",
     "output_type": "stream",
     "text": [
      "1.72634\n"
     ]
    }
   ],
   "source": [
    "x=abs(-1.72634)\n",
    "print(x)"
   ]
  },
  {
   "cell_type": "code",
   "execution_count": 57,
   "id": "8e5dbc14",
   "metadata": {},
   "outputs": [
    {
     "name": "stdout",
     "output_type": "stream",
     "text": [
      "20\n",
      "60\n"
     ]
    }
   ],
   "source": [
    "x=min(20,30,50)\n",
    "y=max(12,34,60)\n",
    "print(x)\n",
    "print(y)"
   ]
  },
  {
   "cell_type": "code",
   "execution_count": 60,
   "id": "9e3c6ba5",
   "metadata": {},
   "outputs": [
    {
     "name": "stdout",
     "output_type": "stream",
     "text": [
      "6.0\n"
     ]
    }
   ],
   "source": [
    "import math\n",
    "x=math.sqrt(36)\n",
    "print(x)"
   ]
  },
  {
   "cell_type": "code",
   "execution_count": 63,
   "id": "f87babae",
   "metadata": {},
   "outputs": [
    {
     "name": "stdout",
     "output_type": "stream",
     "text": [
      "2\n",
      "1\n"
     ]
    }
   ],
   "source": [
    "import math\n",
    "x=math.ceil(1.4)\n",
    "y=math.floor(1.4)\n",
    "print(x)\n",
    "print(y)"
   ]
  },
  {
   "cell_type": "code",
   "execution_count": 68,
   "id": "a1a93c18",
   "metadata": {},
   "outputs": [
    {
     "name": "stdout",
     "output_type": "stream",
     "text": [
      "a\n",
      "b\n",
      "c\n"
     ]
    }
   ],
   "source": [
    "myTuple=('a','b','c')\n",
    "myIt=iter(myTuple)\n",
    "print(next(myIt))\n",
    "print(next(myIt))  \n",
    "print(next(myIt))                  "
   ]
  },
  {
   "cell_type": "code",
   "execution_count": null,
   "id": "a08554dd",
   "metadata": {},
   "outputs": [],
   "source": [
    "pickle:"
   ]
  },
  {
   "cell_type": "code",
   "execution_count": 69,
   "id": "dbd4c81d",
   "metadata": {},
   "outputs": [],
   "source": [
    "import pickle\n",
    "myList=['a','b','c']\n",
    "with open(\"Ajith.txt\",'wb') as a:\n",
    "    pickle.dump(myList,a)"
   ]
  },
  {
   "cell_type": "code",
   "execution_count": null,
   "id": "353de870",
   "metadata": {},
   "outputs": [],
   "source": [
    "unpickle:"
   ]
  },
  {
   "cell_type": "code",
   "execution_count": 70,
   "id": "454bccd5",
   "metadata": {
    "scrolled": true
   },
   "outputs": [
    {
     "name": "stdout",
     "output_type": "stream",
     "text": [
      "['a', 'b', 'c']\n"
     ]
    }
   ],
   "source": [
    "import pickle\n",
    "pickle_off=open(\"Ajith.txt\",\"rb\")\n",
    "emp=pickle.load(pickle_off)\n",
    "print(emp)"
   ]
  },
  {
   "cell_type": "code",
   "execution_count": null,
   "id": "f5345890",
   "metadata": {},
   "outputs": [],
   "source": [
    "Exceptional handling:"
   ]
  },
  {
   "cell_type": "code",
   "execution_count": 72,
   "id": "69c0e29b",
   "metadata": {
    "scrolled": true
   },
   "outputs": [
    {
     "name": "stdout",
     "output_type": "stream",
     "text": [
      "yes it is exist\n",
      "hurry up! you should fix it fast\n"
     ]
    }
   ],
   "source": [
    "import os\n",
    "if os.path.exists(\"Ajith.txt\"):\n",
    "    try:\n",
    "        print(\"yes it is exist\")\n",
    "    except:\n",
    "        print(\"no it is not present in there\")\n",
    "    finally:\n",
    "        print(\"hurry up! you should fix it fast\")"
   ]
  },
  {
   "cell_type": "code",
   "execution_count": 4,
   "id": "86ef33c0",
   "metadata": {},
   "outputs": [
    {
     "data": {
      "text/plain": [
       "18"
      ]
     },
     "execution_count": 4,
     "metadata": {},
     "output_type": "execute_result"
    }
   ],
   "source": [
    "f2=open(r\"Ajith.txt\",\"w\")\n",
    "f2.write(\"everything is good\")"
   ]
  },
  {
   "cell_type": "code",
   "execution_count": 5,
   "id": "8a3beca7",
   "metadata": {
    "scrolled": true
   },
   "outputs": [
    {
     "name": "stdout",
     "output_type": "stream",
     "text": [
      "everything is good\n"
     ]
    }
   ],
   "source": [
    "f2=open(r\"Ajith.txt\",\"r\")\n",
    "print(f2.read())"
   ]
  },
  {
   "cell_type": "code",
   "execution_count": null,
   "id": "c0bc7d01",
   "metadata": {},
   "outputs": [],
   "source": []
  },
  {
   "cell_type": "code",
   "execution_count": 49,
   "id": "b6a80208",
   "metadata": {
    "scrolled": false
   },
   "outputs": [
    {
     "name": "stdout",
     "output_type": "stream",
     "text": [
      "file has been read and write!\n"
     ]
    }
   ],
   "source": [
    "try:\n",
    "    f1=open(\"Ajith.txt\",\"r\")\n",
    "except:\n",
    "    f1=open(\"Ajith.txt\",\"w\")\n",
    "    f1.write()\n",
    "    f2=open(\"Ajith.txt\",\"r\")\n",
    "    f2.read()\n",
    "else:\n",
    "    print(\"file has been read and write!\")\n",
    "finally:\n",
    "    f1.close()\n",
    "    "
   ]
  },
  {
   "cell_type": "code",
   "execution_count": null,
   "id": "9c49cd87",
   "metadata": {},
   "outputs": [],
   "source": []
  },
  {
   "cell_type": "code",
   "execution_count": null,
   "id": "76013041",
   "metadata": {},
   "outputs": [],
   "source": []
  },
  {
   "cell_type": "code",
   "execution_count": 73,
   "id": "1b8ab6f2",
   "metadata": {},
   "outputs": [
    {
     "name": "stdout",
     "output_type": "stream",
     "text": [
      "Requirement already satisfied: pandas in ./opt/anaconda3/lib/python3.9/site-packages (1.3.4)\n",
      "Requirement already satisfied: python-dateutil>=2.7.3 in ./opt/anaconda3/lib/python3.9/site-packages (from pandas) (2.8.2)\n",
      "Requirement already satisfied: pytz>=2017.3 in ./opt/anaconda3/lib/python3.9/site-packages (from pandas) (2021.3)\n",
      "Requirement already satisfied: numpy>=1.17.3 in ./opt/anaconda3/lib/python3.9/site-packages (from pandas) (1.20.3)\n",
      "Requirement already satisfied: six>=1.5 in ./opt/anaconda3/lib/python3.9/site-packages (from python-dateutil>=2.7.3->pandas) (1.16.0)\n",
      "Note: you may need to restart the kernel to use updated packages.\n"
     ]
    }
   ],
   "source": [
    "pip install pandas"
   ]
  },
  {
   "cell_type": "code",
   "execution_count": 74,
   "id": "832af9d4",
   "metadata": {},
   "outputs": [
    {
     "name": "stdout",
     "output_type": "stream",
     "text": [
      "Requirement already satisfied: numpy in ./opt/anaconda3/lib/python3.9/site-packages (1.20.3)\n",
      "Note: you may need to restart the kernel to use updated packages.\n"
     ]
    }
   ],
   "source": [
    "pip install numpy"
   ]
  },
  {
   "cell_type": "code",
   "execution_count": 75,
   "id": "48f92462",
   "metadata": {},
   "outputs": [
    {
     "name": "stdout",
     "output_type": "stream",
     "text": [
      "Collecting camelcase\n",
      "  Downloading camelcase-0.2.tar.gz (1.3 kB)\n",
      "Building wheels for collected packages: camelcase\n",
      "  Building wheel for camelcase (setup.py) ... \u001b[?25ldone\n",
      "\u001b[?25h  Created wheel for camelcase: filename=camelcase-0.2-py3-none-any.whl size=1789 sha256=e3430bad664daa404b3824934029bfa16b8a3cae43106817e25eb991569270be\n",
      "  Stored in directory: /Users/ajithmurali/Library/Caches/pip/wheels/c3/9a/eb/7eca0b069ef85183fd3215aa793d8ffa56ae5b424912c311df\n",
      "Successfully built camelcase\n",
      "Installing collected packages: camelcase\n",
      "Successfully installed camelcase-0.2\n",
      "Note: you may need to restart the kernel to use updated packages.\n"
     ]
    }
   ],
   "source": [
    "pip install camelcase"
   ]
  },
  {
   "cell_type": "code",
   "execution_count": 90,
   "id": "6b89e827",
   "metadata": {
    "scrolled": true
   },
   "outputs": [
    {
     "name": "stdout",
     "output_type": "stream",
     "text": [
      "220\n"
     ]
    }
   ],
   "source": [
    "from functools import reduce\n",
    "SqEv=reduce(lambda z,a:z+a,list(map(lambda y:y*y,filter(lambda x:x%2==0,L1))))\n",
    "print(SqEv)"
   ]
  },
  {
   "cell_type": "code",
   "execution_count": 9,
   "id": "06c5c656",
   "metadata": {},
   "outputs": [],
   "source": [
    "import pickle\n",
    "d={'name':'Ajith',\n",
    "   'age':23,\n",
    "   'year':2022\n",
    "  }\n",
    "with open(\"Ajith.txt\",\"wb\") as a:\n",
    "    pickle.dump(d,a)"
   ]
  },
  {
   "cell_type": "code",
   "execution_count": 10,
   "id": "3dd5d256",
   "metadata": {},
   "outputs": [
    {
     "name": "stdout",
     "output_type": "stream",
     "text": [
      "{'name': 'Ajith', 'age': 23, 'year': 2022}\n"
     ]
    }
   ],
   "source": [
    "import pickle\n",
    "pickle_off=open(\"Ajith.txt\",\"rb\")\n",
    "dic=pickle.load(pickle_off)\n",
    "print(dic)"
   ]
  },
  {
   "cell_type": "code",
   "execution_count": 15,
   "id": "1570f579",
   "metadata": {},
   "outputs": [
    {
     "data": {
      "text/plain": [
       "15"
      ]
     },
     "execution_count": 15,
     "metadata": {},
     "output_type": "execute_result"
    }
   ],
   "source": [
    "def add(a=10,b=5):\n",
    "    return a+b\n",
    "add()"
   ]
  },
  {
   "cell_type": "code",
   "execution_count": 16,
   "id": "34342850",
   "metadata": {},
   "outputs": [
    {
     "data": {
      "text/plain": [
       "6"
      ]
     },
     "execution_count": 16,
     "metadata": {},
     "output_type": "execute_result"
    }
   ],
   "source": [
    "def add(a=10,b=5):\n",
    "    return a+b\n",
    "add(2,4)"
   ]
  },
  {
   "cell_type": "code",
   "execution_count": 17,
   "id": "56f332e7",
   "metadata": {},
   "outputs": [
    {
     "data": {
      "text/plain": [
       "[1, 2, 3, 4, 5]"
      ]
     },
     "execution_count": 17,
     "metadata": {},
     "output_type": "execute_result"
    }
   ],
   "source": [
    "b=[1,2,3,4,5]\n",
    "def sample(a):\n",
    "    return a\n",
    "sample(b)"
   ]
  },
  {
   "cell_type": "code",
   "execution_count": 1,
   "id": "0fe799d3",
   "metadata": {},
   "outputs": [
    {
     "name": "stdout",
     "output_type": "stream",
     "text": [
      "(1, 2, 3, 4)\n"
     ]
    }
   ],
   "source": [
    "def sample(*a):\n",
    "    print(a)\n",
    "sample(1,2,3,4)"
   ]
  },
  {
   "cell_type": "code",
   "execution_count": 20,
   "id": "67120616",
   "metadata": {
    "scrolled": true
   },
   "outputs": [
    {
     "name": "stdout",
     "output_type": "stream",
     "text": [
      "1\n",
      "2\n",
      "3\n",
      "4\n",
      "5\n"
     ]
    }
   ],
   "source": [
    "def sample(*a,b):\n",
    "    for i in a:\n",
    "        print(i)\n",
    "    print(b)\n",
    "sample(1,2,3,4,b=5)    "
   ]
  },
  {
   "cell_type": "code",
   "execution_count": 24,
   "id": "0d4b2bda",
   "metadata": {},
   "outputs": [
    {
     "name": "stdout",
     "output_type": "stream",
     "text": [
      "ak\n",
      "20000\n"
     ]
    }
   ],
   "source": [
    "def sample(**dic):\n",
    "    print(dic['name'])\n",
    "    print(dic['sal'])\n",
    "sample(name='ak',sal='20000')    "
   ]
  },
  {
   "cell_type": "code",
   "execution_count": 34,
   "id": "b36c1c21",
   "metadata": {},
   "outputs": [
    {
     "name": "stdout",
     "output_type": "stream",
     "text": [
      "green\n",
      "express\n",
      "old model\n"
     ]
    }
   ],
   "source": [
    "class bus:\n",
    "    color=\"green\"\n",
    "    name=\"express\"\n",
    "    model=\"old model\"\n",
    "bus=bus()\n",
    "print(bus.color)\n",
    "print(bus.name)\n",
    "print(bus.model)"
   ]
  },
  {
   "cell_type": "code",
   "execution_count": 33,
   "id": "4137f7a2",
   "metadata": {},
   "outputs": [
    {
     "data": {
      "text/plain": [
       "'white'"
      ]
     },
     "execution_count": 33,
     "metadata": {},
     "output_type": "execute_result"
    }
   ],
   "source": [
    "bus.color='white'\n",
    "bus.color"
   ]
  },
  {
   "cell_type": "code",
   "execution_count": 41,
   "id": "9ae7088f",
   "metadata": {
    "scrolled": true
   },
   "outputs": [
    {
     "name": "stdout",
     "output_type": "stream",
     "text": [
      "green\n",
      "2000\n"
     ]
    }
   ],
   "source": [
    "class car:\n",
    "    def __init__  (self,color,year):\n",
    "        self.color=color\n",
    "        self.year=year\n",
    "        \n",
    "    def color1(self):\n",
    "        print(self.color)\n",
    "    def year1(self):\n",
    "        print(self.year) \n",
    "        \n",
    "o =car('red',2000)\n",
    "o =car('green',2000)\n",
    "o.color1()\n",
    "o.year1()\n",
    "    "
   ]
  },
  {
   "cell_type": "markdown",
   "id": "b90e3c93",
   "metadata": {},
   "source": []
  },
  {
   "cell_type": "code",
   "execution_count": 11,
   "id": "e51d629f",
   "metadata": {},
   "outputs": [
    {
     "data": {
      "text/plain": [
       "300"
      ]
     },
     "execution_count": 11,
     "metadata": {},
     "output_type": "execute_result"
    }
   ],
   "source": [
    "def add(a=10,b=10):\n",
    "    return a+b\n",
    "add(100,200)\n"
   ]
  },
  {
   "cell_type": "code",
   "execution_count": 27,
   "id": "3710fdda",
   "metadata": {},
   "outputs": [
    {
     "name": "stdout",
     "output_type": "stream",
     "text": [
      "ak\n",
      "23\n"
     ]
    }
   ],
   "source": [
    "def sample(**dic):\n",
    "    print(dic['name'])\n",
    "    print(dic['age'])\n",
    "sample(name='ak',age='23')"
   ]
  },
  {
   "cell_type": "code",
   "execution_count": 47,
   "id": "3cc0ca02",
   "metadata": {
    "scrolled": true
   },
   "outputs": [
    {
     "data": {
      "text/plain": [
       "'blue'"
      ]
     },
     "execution_count": 47,
     "metadata": {},
     "output_type": "execute_result"
    }
   ],
   "source": [
    "class a:\n",
    "    color=\"blue\"\n",
    "    name=\"ajith\"\n",
    "o=a()\n",
    "o.name\n",
    "o.color"
   ]
  },
  {
   "cell_type": "code",
   "execution_count": 37,
   "id": "f4660404",
   "metadata": {},
   "outputs": [],
   "source": [
    "o.color='green'"
   ]
  },
  {
   "cell_type": "code",
   "execution_count": 39,
   "id": "94320770",
   "metadata": {},
   "outputs": [
    {
     "data": {
      "text/plain": [
       "'green'"
      ]
     },
     "execution_count": 39,
     "metadata": {},
     "output_type": "execute_result"
    }
   ],
   "source": [
    "o.color"
   ]
  },
  {
   "cell_type": "code",
   "execution_count": 2,
   "id": "b1306d3d",
   "metadata": {
    "scrolled": true
   },
   "outputs": [
    {
     "name": "stdout",
     "output_type": "stream",
     "text": [
      "5\n",
      "5 true\n"
     ]
    }
   ],
   "source": [
    "num= int(input())\n",
    "flag =False\n",
    "if num>1:\n",
    "    for i in range(2,num):\n",
    "        if(num%i)==0:\n",
    "            flag=True\n",
    "            break\n",
    "if flag:\n",
    "    print(num, \"false\")\n",
    "else:\n",
    "    print(num, \"true\")"
   ]
  },
  {
   "cell_type": "code",
   "execution_count": 55,
   "id": "919486fd",
   "metadata": {
    "scrolled": false
   },
   "outputs": [
    {
     "name": "stdout",
     "output_type": "stream",
     "text": [
      "Multiplication using value? : 10\n",
      "1  *  1  =  1\n",
      "1  *  2  =  2\n",
      "1  *  3  =  3\n",
      "1  *  4  =  4\n",
      "1  *  5  =  5\n",
      "1  *  6  =  6\n",
      "1  *  7  =  7\n",
      "1  *  8  =  8\n",
      "1  *  9  =  9\n",
      "1  *  10  =  10\n",
      " \n",
      "2  *  1  =  2\n",
      "2  *  2  =  4\n",
      "2  *  3  =  6\n",
      "2  *  4  =  8\n",
      "2  *  5  =  10\n",
      "2  *  6  =  12\n",
      "2  *  7  =  14\n",
      "2  *  8  =  16\n",
      "2  *  9  =  18\n",
      "2  *  10  =  20\n",
      " \n",
      "3  *  1  =  3\n",
      "3  *  2  =  6\n",
      "3  *  3  =  9\n",
      "3  *  4  =  12\n",
      "3  *  5  =  15\n",
      "3  *  6  =  18\n",
      "3  *  7  =  21\n",
      "3  *  8  =  24\n",
      "3  *  9  =  27\n",
      "3  *  10  =  30\n",
      " \n",
      "4  *  1  =  4\n",
      "4  *  2  =  8\n",
      "4  *  3  =  12\n",
      "4  *  4  =  16\n",
      "4  *  5  =  20\n",
      "4  *  6  =  24\n",
      "4  *  7  =  28\n",
      "4  *  8  =  32\n",
      "4  *  9  =  36\n",
      "4  *  10  =  40\n",
      " \n",
      "5  *  1  =  5\n",
      "5  *  2  =  10\n",
      "5  *  3  =  15\n",
      "5  *  4  =  20\n",
      "5  *  5  =  25\n",
      "5  *  6  =  30\n",
      "5  *  7  =  35\n",
      "5  *  8  =  40\n",
      "5  *  9  =  45\n",
      "5  *  10  =  50\n",
      " \n",
      "6  *  1  =  6\n",
      "6  *  2  =  12\n",
      "6  *  3  =  18\n",
      "6  *  4  =  24\n",
      "6  *  5  =  30\n",
      "6  *  6  =  36\n",
      "6  *  7  =  42\n",
      "6  *  8  =  48\n",
      "6  *  9  =  54\n",
      "6  *  10  =  60\n",
      " \n",
      "7  *  1  =  7\n",
      "7  *  2  =  14\n",
      "7  *  3  =  21\n",
      "7  *  4  =  28\n",
      "7  *  5  =  35\n",
      "7  *  6  =  42\n",
      "7  *  7  =  49\n",
      "7  *  8  =  56\n",
      "7  *  9  =  63\n",
      "7  *  10  =  70\n",
      " \n",
      "8  *  1  =  8\n",
      "8  *  2  =  16\n",
      "8  *  3  =  24\n",
      "8  *  4  =  32\n",
      "8  *  5  =  40\n",
      "8  *  6  =  48\n",
      "8  *  7  =  56\n",
      "8  *  8  =  64\n",
      "8  *  9  =  72\n",
      "8  *  10  =  80\n",
      " \n",
      "9  *  1  =  9\n",
      "9  *  2  =  18\n",
      "9  *  3  =  27\n",
      "9  *  4  =  36\n",
      "9  *  5  =  45\n",
      "9  *  6  =  54\n",
      "9  *  7  =  63\n",
      "9  *  8  =  72\n",
      "9  *  9  =  81\n",
      "9  *  10  =  90\n",
      " \n",
      "10  *  1  =  10\n",
      "10  *  2  =  20\n",
      "10  *  3  =  30\n",
      "10  *  4  =  40\n",
      "10  *  5  =  50\n",
      "10  *  6  =  60\n",
      "10  *  7  =  70\n",
      "10  *  8  =  80\n",
      "10  *  9  =  90\n",
      "10  *  10  =  100\n",
      " \n"
     ]
    }
   ],
   "source": [
    "numInput = int(input(\"Multiplication using value? : \"))\n",
    "\n",
    "for i in range(1,numInput+1):\n",
    "    for j in range(1,numInput+1):\n",
    "        print(i, \" * \", j, \" = \", i*j)\n",
    "    print(\" \")\n",
    "   "
   ]
  },
  {
   "cell_type": "code",
   "execution_count": 56,
   "id": "a70c6f63",
   "metadata": {
    "scrolled": true
   },
   "outputs": [
    {
     "name": "stdout",
     "output_type": "stream",
     "text": [
      "10\n",
      "10\n",
      "20\n",
      "30\n",
      "40\n",
      "50\n",
      "60\n",
      "70\n",
      "80\n",
      "90\n",
      "100\n",
      "110\n",
      "120\n"
     ]
    }
   ],
   "source": [
    "n=int(input())\n",
    "for i in range(1,13):\n",
    "    print(i*n)"
   ]
  },
  {
   "cell_type": "code",
   "execution_count": 65,
   "id": "7a92cb3d",
   "metadata": {
    "scrolled": true
   },
   "outputs": [
    {
     "name": "stdout",
     "output_type": "stream",
     "text": [
      "2\n",
      "3\n",
      "2\n"
     ]
    }
   ],
   "source": [
    "n=int(input())\n",
    "sum=0\n",
    "product=1\n",
    "for i in range(1,n+1):\n",
    "    sum=sum+i\n",
    "    product=product*i\n",
    "print(sum)\n",
    "print(product)"
   ]
  },
  {
   "cell_type": "code",
   "execution_count": null,
   "id": "383a3b70",
   "metadata": {},
   "outputs": [],
   "source": []
  },
  {
   "cell_type": "code",
   "execution_count": null,
   "id": "8a0d6047",
   "metadata": {},
   "outputs": [],
   "source": []
  },
  {
   "cell_type": "code",
   "execution_count": null,
   "id": "960c43e9",
   "metadata": {},
   "outputs": [],
   "source": []
  },
  {
   "cell_type": "code",
   "execution_count": null,
   "id": "dc1f9ed8",
   "metadata": {},
   "outputs": [],
   "source": []
  },
  {
   "cell_type": "code",
   "execution_count": null,
   "id": "e08d9967",
   "metadata": {},
   "outputs": [],
   "source": []
  },
  {
   "cell_type": "code",
   "execution_count": null,
   "id": "0d032b97",
   "metadata": {},
   "outputs": [],
   "source": []
  },
  {
   "cell_type": "markdown",
   "id": "1625b5e2",
   "metadata": {},
   "source": []
  },
  {
   "cell_type": "code",
   "execution_count": null,
   "id": "68167e89",
   "metadata": {},
   "outputs": [],
   "source": []
  }
 ],
 "metadata": {
  "kernelspec": {
   "display_name": "Python 3 (ipykernel)",
   "language": "python",
   "name": "python3"
  },
  "language_info": {
   "codemirror_mode": {
    "name": "ipython",
    "version": 3
   },
   "file_extension": ".py",
   "mimetype": "text/x-python",
   "name": "python",
   "nbconvert_exporter": "python",
   "pygments_lexer": "ipython3",
   "version": "3.9.7"
  }
 },
 "nbformat": 4,
 "nbformat_minor": 5
}
